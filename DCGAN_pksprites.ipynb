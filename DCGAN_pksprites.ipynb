{
  "nbformat": 4,
  "nbformat_minor": 0,
  "metadata": {
    "colab": {
      "name": "DCGAN pksprites",
      "version": "0.3.2",
      "provenance": [],
      "private_outputs": true,
      "collapsed_sections": [],
      "toc_visible": true
    },
    "kernelspec": {
      "display_name": "Python 3",
      "language": "python",
      "name": "python3"
    },
    "accelerator": "GPU"
  },
  "cells": [
    {
      "metadata": {
        "colab_type": "text",
        "id": "0TD5ZrvEMbhZ"
      },
      "cell_type": "markdown",
      "source": [
        "##### Copyright 2018 The TensorFlow Authors.\n",
        "\n",
        "Licensed under the Apache License, Version 2.0 (the \"License\").\n",
        "\n",
        "# DCGAN: An example with tf.keras and eager\n",
        "\n",
        "<table class=\"tfo-notebook-buttons\" align=\"left\"><td>\n",
        "<a target=\"_blank\"  href=\"https://colab.research.google.com/github/tensorflow/tensorflow/blob/master/tensorflow/contrib/eager/python/examples/generative_examples/dcgan.ipynb\">\n",
        "    <img src=\"https://www.tensorflow.org/images/colab_logo_32px.png\" />Run in Google Colab</a>  \n",
        "</td><td>\n",
        "<a target=\"_blank\"  href=\"https://github.com/tensorflow/tensorflow/tree/master/tensorflow/contrib/eager/python/examples/generative_examples/dcgan.ipynb\"><img width=32px src=\"https://www.tensorflow.org/images/GitHub-Mark-32px.png\" />View source on GitHub</a></td></table>"
      ]
    },
    {
      "metadata": {
        "colab_type": "text",
        "id": "ITZuApL56Mny"
      },
      "cell_type": "markdown",
      "source": [
        "This notebook demonstrates how to generate images of handwritten digits using [tf.keras](https://www.tensorflow.org/programmers_guide/keras) and [eager execution](https://www.tensorflow.org/programmers_guide/eager). To do so, we use Deep Convolutional Generative Adverserial Networks ([DCGAN](https://arxiv.org/pdf/1511.06434.pdf)).\n",
        "\n",
        "This model takes about ~30 seconds per epoch (using tf.contrib.eager.defun to create graph functions) to train on a single Tesla K80 on Colab, as of July 2018.\n",
        "\n",
        "Below is the output generated after training the generator and discriminator models for 150 epochs.\n",
        "\n",
        "![sample output](https://tensorflow.org/images/gan/dcgan.gif)"
      ]
    },
    {
      "metadata": {
        "colab": {},
        "colab_type": "code",
        "id": "u_2z-B3piVsw"
      },
      "cell_type": "code",
      "source": [
        "# to generate gifs\n",
        "!pip install imageio"
      ],
      "execution_count": 0,
      "outputs": []
    },
    {
      "metadata": {
        "colab_type": "text",
        "id": "e1_Y75QXJS6h"
      },
      "cell_type": "markdown",
      "source": [
        "## Import TensorFlow and enable eager execution"
      ]
    },
    {
      "metadata": {
        "colab": {},
        "colab_type": "code",
        "id": "YfIk2es3hJEd"
      },
      "cell_type": "code",
      "source": [
        "\n",
        "\n",
        "from __future__ import absolute_import, division, print_function\n",
        "\n",
        "# Import TensorFlow >= 1.10 and enable eager execution\n",
        "import tensorflow as tf\n",
        "tf.enable_eager_execution()\n",
        "print(tf.__version__)\n",
        "\n",
        "import os\n",
        "from os import listdir\n",
        "from os.path import isfile, join\n",
        "\n",
        "import time\n",
        "import numpy as np\n",
        "import glob\n",
        "import matplotlib.pyplot as plt\n",
        "import PIL\n",
        "import imageio\n",
        "from IPython import display\n",
        "import random"
      ],
      "execution_count": 0,
      "outputs": []
    },
    {
      "metadata": {
        "colab_type": "text",
        "id": "iYn4MdZnKCey"
      },
      "cell_type": "markdown",
      "source": [
        "## Load the dataset\n",
        "\n",
        "We are going to use the MNIST dataset to train the generator and the discriminator. The generator will then generate handwritten digits."
      ]
    },
    {
      "metadata": {
        "id": "yq-g-D65GiL8",
        "colab_type": "code",
        "colab": {}
      },
      "cell_type": "code",
      "source": [
        "!dir\n"
      ],
      "execution_count": 0,
      "outputs": []
    },
    {
      "metadata": {
        "colab": {},
        "colab_type": "code",
        "id": "a4fYMGxGhrna"
      },
      "cell_type": "code",
      "source": [
        "pixel_art_folder = \"./spritifier/input/pixel_art/40x30/\" #cloud run\n",
        "#pixel_art_folder = \"D:\\my_things/pkspritifier/40x30/\" #local run\n",
        "source_art_folder = \"./spritifier/input/pixel_art/256x256/\" #cloud run\n",
        "#pixel_art_folder = \"D:\\my_things/pkspritifier/256x256/\" #local run\n",
        "\n",
        "\n",
        "\n",
        "\n",
        "def gen_target_filenames():\n",
        "    filenames = listdir(pixel_art_folder)\n",
        "    num_sprites = len(filenames) \n",
        "    print(num_sprites, \"40x30 sprites\")\n",
        "    for i,f in enumerate(filenames):\n",
        "        yield (pixel_art_folder+f)\n",
        "        \n",
        "def gen_source_filenames():\n",
        "    filenames = listdir(source_art_folder)\n",
        "    num_sprites = len(filenames) \n",
        "    print(num_sprites, \"256x256 sprites\")\n",
        "    for i,f in enumerate(filenames):\n",
        "        yield (source_art_folder+f)\n",
        "\n",
        "\n",
        "\n",
        "# something buggy about these...?\n",
        "# target_filename_dataset = tf.data.Dataset.from_generator(gen_target_filenames,((tf.string)))\n",
        "# source_filename_dataset = tf.data.Dataset.from_generator(gen_source_filenames,((tf.string)))\n",
        "\n",
        "#alternative, in python\n",
        "target_filenames = sorted(list(i for i in gen_target_filenames()))\n",
        "source_filenames = sorted(list(i for i in gen_source_filenames()))\n",
        "\n",
        "target_filename_dataset = tf.data.Dataset.from_tensor_slices(target_filenames)\n",
        "source_filename_dataset = tf.data.Dataset.from_tensor_slices(source_filenames)\n",
        "\n",
        "\n",
        "def parse_40x30 (filepath):\n",
        "    pic = tf.read_file(filepath)\n",
        "    pic = tf.image.decode_png(pic,channels = 4)\n",
        "    pic = (tf.cast(np.array(pic),tf.float32)-127.5)/127.5\n",
        "    return pic\n",
        "  \n",
        "def parse_256x256 (filepath):\n",
        "    pic = PIL.Image.open(filepath)\n",
        "    pic = pic.resize((240,180),PIL.Image.BICUBIC)\n",
        "    pic = (tf.cast(np.array(pic),tf.float32)-127.5)/127.5\n",
        "    \n",
        "    return pic\n",
        "  \n",
        "target_images = list(parse_40x30(i) for i in target_filenames)\n",
        "source_images = list(parse_256x256(i) for i in source_filenames)\n",
        "\n",
        "target_dataset = target_filename_dataset.from_tensor_slices(target_images).batch(32)\n",
        "source_dataset = source_filename_dataset.from_tensor_slices(source_images).batch(32)\n",
        "\n",
        "a = np.array(iter(target_dataset).next()[0])\n",
        "b = np.array(iter(source_dataset).next()[0])\n",
        "\n",
        "fig, (target, source) = plt.subplots(ncols = 2)\n",
        "target.imshow(((a.reshape((30,40,4))+1)/2))\n",
        "source.imshow(((b.reshape((180,240,4))+1)/2))"
      ],
      "execution_count": 0,
      "outputs": []
    },
    {
      "metadata": {
        "colab_type": "text",
        "id": "THY-sZMiQ4UV"
      },
      "cell_type": "markdown",
      "source": [
        "## Write the generator and discriminator models\n",
        "\n",
        "* **Generator** \n",
        "  * It is responsible for **creating convincing images that are good enough to fool the discriminator**.\n",
        "  * It consists of Conv2DTranspose (Upsampling) layers. We start with a fully connected layer and upsample the image 2 times so as to reach the desired image size (mnist image size) which is (28, 28, 1). \n",
        "  * We use **leaky relu** activation except for the **last layer** which uses **tanh** activation.\n",
        "  \n",
        "* **Discriminator**\n",
        "  * **The discriminator is responsible for classifying the fake images from the real images.**\n",
        "  * In other words, the discriminator is given generated images (from the generator) and the real MNIST images. The job of the discriminator is to classify these images into fake (generated) and real (MNIST images).\n",
        "  * **Basically the generator should be good enough to fool the discriminator that the generated images are real**."
      ]
    },
    {
      "metadata": {
        "colab": {},
        "colab_type": "code",
        "id": "VGLbvBEmjK0a"
      },
      "cell_type": "code",
      "source": [
        "class Generator(tf.keras.Model):\n",
        "  def __init__(self):\n",
        "    super(Generator, self).__init__()\n",
        "    \n",
        "    self.conv0 = tf.keras.layers.Conv2D(128, (1, 1), strides=(3, 3), padding='same', use_bias=False)\n",
        "    self.conv1 = tf.keras.layers.Conv2D(256, (1, 1), strides=(2, 2), padding='same', use_bias=False)\n",
        "    self.conv2 = tf.keras.layers.Conv2D(512, (1, 1), strides=(2, 2), padding='same', use_bias=False)\n",
        "    self.conv3 = tf.keras.layers.Conv2D(512, (1, 1), strides=(1, 1), padding='same', use_bias=False)\n",
        "    self.conv4 = tf.keras.layers.Conv2DTranspose(512, (1, 1), strides=(2, 2), padding='same', use_bias=False)\n",
        "    self.conv5 = tf.keras.layers.Conv2D(256, (1, 1), strides=(1, 1), padding='same', use_bias=False)\n",
        "    self.conv6 = tf.keras.layers.Conv2D(124, (1, 1), strides=(1, 1), padding='same', use_bias=False)\n",
        "    self.conv7 = tf.keras.layers.Conv2D(64, (3, 3), strides=(1, 1), padding='same', use_bias=False)\n",
        "    self.conv8 = tf.keras.layers.Conv2D(4, (5, 5), strides=(1, 1), padding='same', use_bias=False)\n",
        "    \n",
        "    \n",
        "    self.batchnorm0 = tf.keras.layers.BatchNormalization()\n",
        "    self.batchnorm1 = tf.keras.layers.BatchNormalization()\n",
        "    self.batchnorm2 = tf.keras.layers.BatchNormalization()\n",
        "    self.batchnorm3 = tf.keras.layers.BatchNormalization()\n",
        "    self.batchnorm4 = tf.keras.layers.BatchNormalization()\n",
        "    self.batchnorm5 = tf.keras.layers.BatchNormalization()\n",
        "    self.batchnorm6 = tf.keras.layers.BatchNormalization()\n",
        "    self.batchnorm7 = tf.keras.layers.BatchNormalization()\n",
        "    self.batchnorm8 = tf.keras.layers.BatchNormalization()\n",
        "    \n",
        "    self.dropout0 = tf.keras.layers.Dropout(0.3)\n",
        "    self.dropout1 = tf.keras.layers.Dropout(0.3)\n",
        "    self.dropout2 = tf.keras.layers.Dropout(0.3)\n",
        "    self.dropout3 = tf.keras.layers.Dropout(0.3)\n",
        "    self.dropout4 = tf.keras.layers.Dropout(0.3)\n",
        "    self.dropout5 = tf.keras.layers.Dropout(0.3)\n",
        "    self.dropout6 = tf.keras.layers.Dropout(0.3)\n",
        "\n",
        "  def call(self, x, training=True):\n",
        "\n",
        "    x = self.conv0(x)\n",
        "    x = self.batchnorm0(x, training=training)\n",
        "    x = self.dropout0(x)\n",
        "    x = tf.nn.relu(x)\n",
        "\n",
        "    x = self.conv1(x)\n",
        "    x = self.batchnorm1(x, training=training)\n",
        "    x = self.dropout1(x)\n",
        "    x = tf.nn.relu(x)\n",
        "    \n",
        "    x = self.conv2(x)\n",
        "    x = self.batchnorm2(x, training=training)\n",
        "    x = self.dropout2(x)\n",
        "    x = tf.nn.relu(x)\n",
        "    \n",
        "    x = self.conv3(x)\n",
        "    x = self.batchnorm3(x, training=training)\n",
        "    x = self.dropout3(x)\n",
        "    x = tf.nn.relu(x)\n",
        "    \n",
        "    x = self.conv4(x)\n",
        "    x = self.batchnorm4(x, training=training)\n",
        "    x = self.dropout4(x)\n",
        "    x = tf.nn.relu(x)\n",
        "    \n",
        "    x = self.conv5(x)\n",
        "    x = self.batchnorm5(x, training=training)\n",
        "    x = self.dropout5(x)\n",
        "    x = tf.nn.relu(x)\n",
        "    \n",
        "    x = self.conv6(x)\n",
        "    x = self.batchnorm6(x, training=training)\n",
        "    x = self.dropout6(x)\n",
        "    x = tf.nn.relu(x)\n",
        "    \n",
        "    x = self.conv7(x)\n",
        "    x = self.batchnorm7(x, training=training)\n",
        "    x = tf.nn.relu(x)\n",
        "    \n",
        "    x = self.conv8(x)\n",
        "    x = tf.nn.tanh(x)\n",
        "    return x"
      ],
      "execution_count": 0,
      "outputs": []
    },
    {
      "metadata": {
        "colab": {},
        "colab_type": "code",
        "id": "bkOfJxk5j5Hi"
      },
      "cell_type": "code",
      "source": [
        "class Discriminator(tf.keras.Model):\n",
        "  def __init__(self):\n",
        "    super(Discriminator, self).__init__()\n",
        "    self.conv1 = tf.keras.layers.Conv2D(64, (1, 1), strides=(2, 2), padding='same')\n",
        "    self.conv2 = tf.keras.layers.Conv2D(128, (1, 1), strides=(2, 2), padding='same')\n",
        "    self.conv3 = tf.keras.layers.Conv2D(128, (1, 1), strides=(1, 1), padding='same')\n",
        "    self.conv4 = tf.keras.layers.Conv2D(128, (1, 1), strides=(1, 1), padding='same', use_bias=False)\n",
        "    self.dropout = tf.keras.layers.Dropout(0.3)\n",
        "    self.flatten = tf.keras.layers.Flatten()\n",
        "    self.fc1 = tf.keras.layers.Dense(1)\n",
        "\n",
        "  def call(self, x, training=True):\n",
        "    x = tf.nn.leaky_relu(self.conv1(x))\n",
        "    x = self.dropout(x, training=training)\n",
        "    x = tf.nn.leaky_relu(self.conv2(x))\n",
        "    x = self.dropout(x, training=training)\n",
        "    x = tf.nn.leaky_relu(self.conv3(x))\n",
        "    x = self.dropout(x, training=training)\n",
        "    x = tf.nn.leaky_relu(self.conv4(x))\n",
        "    x = self.flatten(x)\n",
        "    x = self.fc1(x)\n",
        "    return x"
      ],
      "execution_count": 0,
      "outputs": []
    },
    {
      "metadata": {
        "colab": {},
        "colab_type": "code",
        "id": "gDkA05NE6QMs"
      },
      "cell_type": "code",
      "source": [
        "generator = Generator()\n",
        "discriminator = Discriminator()"
      ],
      "execution_count": 0,
      "outputs": []
    },
    {
      "metadata": {
        "colab": {},
        "colab_type": "code",
        "id": "k1HpMSLImuRi"
      },
      "cell_type": "code",
      "source": [
        "# Defun gives 10 secs/epoch performance boost\n",
        "generator.call = tf.contrib.eager.defun(generator.call)\n",
        "discriminator.call = tf.contrib.eager.defun(discriminator.call)"
      ],
      "execution_count": 0,
      "outputs": []
    },
    {
      "metadata": {
        "id": "D9gkPXI0H5SQ",
        "colab_type": "code",
        "colab": {}
      },
      "cell_type": "code",
      "source": [
        "generator.summary()"
      ],
      "execution_count": 0,
      "outputs": []
    },
    {
      "metadata": {
        "colab_type": "text",
        "id": "0FMYgY_mPfTi"
      },
      "cell_type": "markdown",
      "source": [
        "## Define the loss functions and the optimizer\n",
        "\n",
        "* **Discriminator loss**\n",
        "  * The discriminator loss function takes 2 inputs; **real images, generated images**\n",
        "  * real_loss is a sigmoid cross entropy loss of the **real images** and an **array of ones (since these are the real images)**\n",
        "  * generated_loss is a sigmoid cross entropy loss of the **generated images** and an **array of zeros (since these are the fake images)**\n",
        "  * Then the total_loss is the sum of real_loss and the generated_loss\n",
        "  \n",
        "* **Generator loss**\n",
        "  * It is a sigmoid cross entropy loss of the generated images and an **array of ones**\n",
        "  \n",
        "\n",
        "* The discriminator and the generator optimizers are different since we will train them separately."
      ]
    },
    {
      "metadata": {
        "colab": {},
        "colab_type": "code",
        "id": "wkMNfBWlT-PV"
      },
      "cell_type": "code",
      "source": [
        "def discriminator_loss(real_output, generated_output):\n",
        "    # [1,1,...,1] with real output since it is true and we want\n",
        "    # our generated examples to look like it\n",
        "    real_loss = tf.losses.sigmoid_cross_entropy(multi_class_labels=tf.ones_like(real_output), logits=real_output)\n",
        "\n",
        "    # [0,0,...,0] with generated images since they are fake\n",
        "    generated_loss = tf.losses.sigmoid_cross_entropy(multi_class_labels=tf.zeros_like(generated_output), logits=generated_output)\n",
        "\n",
        "    total_loss = real_loss + generated_loss\n",
        "\n",
        "    return total_loss"
      ],
      "execution_count": 0,
      "outputs": []
    },
    {
      "metadata": {
        "colab": {},
        "colab_type": "code",
        "id": "90BIcCKcDMxz"
      },
      "cell_type": "code",
      "source": [
        "def generator_loss(generated_output):\n",
        "    return tf.losses.sigmoid_cross_entropy(tf.ones_like(generated_output), generated_output)"
      ],
      "execution_count": 0,
      "outputs": []
    },
    {
      "metadata": {
        "colab": {},
        "colab_type": "code",
        "id": "iWCn_PVdEJZ7"
      },
      "cell_type": "code",
      "source": [
        "discriminator_optimizer = tf.train.AdamOptimizer(1e-4)\n",
        "generator_optimizer = tf.train.AdamOptimizer(1e-4)"
      ],
      "execution_count": 0,
      "outputs": []
    },
    {
      "metadata": {
        "colab_type": "text",
        "id": "mWtinsGDPJlV"
      },
      "cell_type": "markdown",
      "source": [
        "## Checkpoints (Object-based saving)"
      ]
    },
    {
      "metadata": {
        "colab": {},
        "colab_type": "code",
        "id": "CA1w-7s2POEy"
      },
      "cell_type": "code",
      "source": [
        "checkpoint_dir = './saves'\n",
        "checkpoint_prefix = os.path.join(checkpoint_dir, \"ckpt\")\n",
        "checkpoint = tf.train.Checkpoint(generator_optimizer=generator_optimizer,\n",
        "                                 discriminator_optimizer=discriminator_optimizer,\n",
        "                                 generator=generator,\n",
        "                                 discriminator=discriminator)"
      ],
      "execution_count": 0,
      "outputs": []
    },
    {
      "metadata": {
        "id": "jO8LFB68--uR",
        "colab_type": "code",
        "colab": {}
      },
      "cell_type": "code",
      "source": [
        "# restoring the latest checkpoint in checkpoint_dir\n",
        "checkpoint.restore(tf.train.latest_checkpoint(checkpoint_dir))"
      ],
      "execution_count": 0,
      "outputs": []
    },
    {
      "metadata": {
        "colab_type": "text",
        "id": "Rw1fkAczTQYh"
      },
      "cell_type": "markdown",
      "source": [
        "## Training\n",
        "\n",
        "* We start by iterating over the dataset\n",
        "* The generator is given **noise as an input** which when passed through the generator model will output a image looking like a handwritten digit\n",
        "* The discriminator is given the **real MNIST images as well as the generated images (from the generator)**.\n",
        "* Next, we calculate the generator and the discriminator loss.\n",
        "* Then, we calculate the gradients of loss with respect to both the generator and the discriminator variables (inputs) and apply those to the optimizer.\n",
        "\n",
        "## Generate Images\n",
        "\n",
        "* After training, its time to generate some images!\n",
        "* We start by creating noise array as an input to the generator\n",
        "* The generator will then convert the noise into handwritten images.\n",
        "* Last step is to plot the predictions and **voila!**"
      ]
    },
    {
      "metadata": {
        "colab": {},
        "colab_type": "code",
        "id": "NS2GWywBbAWo"
      },
      "cell_type": "code",
      "source": [
        "EPOCHS = 150\n",
        "noise_dim = 100\n",
        "num_examples_to_generate = 16\n",
        "current_epoch = 0\n",
        "\n",
        "\n",
        "\n",
        "# keeping the random vector constant for generation (prediction) so\n",
        "# it will be easier to see the improvement of the gan.\n",
        "random_vector_for_generation = tf.random_normal([num_examples_to_generate,\n",
        "                                                 noise_dim])"
      ],
      "execution_count": 0,
      "outputs": []
    },
    {
      "metadata": {
        "colab": {},
        "colab_type": "code",
        "id": "RmdVsmvhPxyy"
      },
      "cell_type": "code",
      "source": [
        "draw_delta = 0\n",
        "def generate_and_save_images(model, epoch, gen_loss, disc_loss,epoch_time):\n",
        "  global draw_delta\n",
        "#   pass\n",
        "#   make sure the training parameter is set to False because we\n",
        "#   don't want to train the batchnorm layer when doing inference.\n",
        "  calc_start = time.time()\n",
        "  a = random.randint(0,len(target_images)-1)\n",
        "  \n",
        "  test_input = tf.reshape(tf.contrib.eager.Variable([source_images[0],source_images[a]]),(2,1,180,240,4))\n",
        "  predictions = list(model(i, training = False) for i in test_input)\n",
        "  test_input = [source_images[0],source_images[a]]\n",
        "  target_output =  [target_images[0],target_images[a]]\n",
        "\n",
        "  fig, ((prediction, real, source),(a1,a2,a3)) = plt.subplots(nrows = 2, ncols=3,figsize=(20, 10))\n",
        "  \n",
        "  prediction.imshow(np.array(predictions[0][0])/2+0.5)\n",
        "  prediction.set_title('prediction')\n",
        "  prediction.set_xlabel(f'epoch{epoch} gen_loss: {gen_loss:.4} disc_loss: {disc_loss:.4}')\n",
        "        \n",
        "  calc_delta = time.time()-calc_start\n",
        "    \n",
        "  real.imshow(np.array(target_output[0])/2+0.5)\n",
        "  real.set_title('real')\n",
        "  real.set_xlabel(target_filenames[0])\n",
        "        \n",
        "  source.imshow(np.array(test_input[0])/2+0.5)\n",
        "  source.set_title('source')\n",
        "  source.set_xlabel(source_filenames[0])\n",
        "  \n",
        "  \n",
        "  a1.imshow(np.array(predictions[1][0])/2+0.5)\n",
        "  a2.imshow(np.array(target_output[1])/2+0.5)\n",
        "  a3.imshow(np.array(test_input[1])/2+0.5)\n",
        "  a2.set_xlabel(target_filenames[a])\n",
        "  a3.set_xlabel(source_filenames[a])\n",
        "  \n",
        "  \n",
        "  \n",
        "  \n",
        "  \n",
        "  print(f\"epoch: {epoch} calc_delta1: {epoch_time:.4f} calc_delta2: {calc_delta:.4f} draw_delta: {draw_delta:.4f}\")\n",
        "  print(f'epoch{epoch} gen_loss: {gen_loss:.4} disc_loss: {disc_loss:.4}')\n",
        "  \n",
        "  \n",
        "        \n",
        "  plt.savefig('./images/aimage_at_epoch_{:04d}.png'.format(epoch))\n",
        "  plt.show()\n",
        "  draw_delta = time.time() - (calc_start + calc_delta)\n",
        "  plt.close()"
      ],
      "execution_count": 0,
      "outputs": []
    },
    {
      "metadata": {
        "colab": {},
        "colab_type": "code",
        "id": "2M7LmLtGEMQJ"
      },
      "cell_type": "code",
      "source": [
        "def train(targets,source, epochs, current_epoch, noise_dim):  \n",
        "  \n",
        "  last_gen_loss = 0.0\n",
        "  last_disc_loss = 0.0\n",
        "  avg_gen_loss = 0.0\n",
        "  avg_disc_loss = 0.0  \n",
        "  \n",
        "  for epoch in range(current_epoch,current_epoch + epochs):\n",
        "    current_epoch = epoch #don't want to change all the names\n",
        "    start = time.time()\n",
        "    \n",
        "    \n",
        "    last_gen_loss = avg_gen_loss\n",
        "    last_disc_loss = avg_disc_loss\n",
        "    avg_gen_loss = 0.0\n",
        "    avg_disc_loss = 0.0  \n",
        "    loss_count = 0\n",
        "      \n",
        "    for target_image,source_image in zip(targets,source):\n",
        "      \n",
        "      with tf.GradientTape() as gen_tape, tf.GradientTape() as disc_tape:\n",
        "        generated_images = generator(source_image, training=True)\n",
        "      \n",
        "        real_output = discriminator(target_image, training=True)\n",
        "        generated_output = discriminator(generated_images, training=True)\n",
        "        \n",
        "        gen_loss = generator_loss(generated_output)\n",
        "        disc_loss = discriminator_loss(real_output, generated_output)\n",
        "        \n",
        "        avg_gen_loss += gen_loss\n",
        "        avg_disc_loss += disc_loss\n",
        "        loss_count += 1\n",
        "        \n",
        "      \n",
        "      gradients_of_generator = gen_tape.gradient(gen_loss, generator.variables)\n",
        "      generator_optimizer.apply_gradients(zip(gradients_of_generator, generator.variables))\n",
        "      \n",
        "      if (last_gen_loss < 999999):\n",
        "        gradients_of_discriminator = disc_tape.gradient(disc_loss, discriminator.variables)\n",
        "        discriminator_optimizer.apply_gradients(zip(gradients_of_discriminator, discriminator.variables))\n",
        "\n",
        "    avg_gen_loss /= loss_count\n",
        "    avg_disc_loss /= loss_count\n",
        "    \n",
        "    \n",
        "    if epoch % 20 == 0:\n",
        "      display.clear_output(wait=True)\n",
        "      generate_and_save_images(generator,\n",
        "                               epoch + 1,\n",
        "                               avg_gen_loss,\n",
        "                               avg_disc_loss,\n",
        "                               (time.time()-start)\n",
        "                              )\n",
        "    print ('Epoch {} Total time is {} sec'.format(epoch+1,time.time()-start))\n",
        "    \n",
        "    # saving (checkpoint) the model every 15 epochs\n",
        "    \n",
        "    if (epoch + 1) % 100 == 0:\n",
        "      checkpoint.save(file_prefix = checkpoint_prefix)\n",
        "    \n",
        "    \n",
        "    \n",
        "    \n",
        "    \n"
      ],
      "execution_count": 0,
      "outputs": []
    },
    {
      "metadata": {
        "colab": {},
        "colab_type": "code",
        "id": "Ly3UN0SLLY2l"
      },
      "cell_type": "code",
      "source": [
        "train(target_dataset,source_dataset,1000-602, 602, noise_dim)"
      ],
      "execution_count": 0,
      "outputs": []
    },
    {
      "metadata": {
        "id": "PMhqMpAd--vP",
        "colab_type": "code",
        "colab": {}
      },
      "cell_type": "code",
      "source": [
        "!dir"
      ],
      "execution_count": 0,
      "outputs": []
    },
    {
      "metadata": {
        "colab": {},
        "colab_type": "code",
        "id": "sJwgZ_T-apsM"
      },
      "cell_type": "code",
      "source": [
        "checkpoint.save(file_prefix = \"./saves/test\")\n"
      ],
      "execution_count": 0,
      "outputs": []
    },
    {
      "metadata": {
        "colab": {},
        "colab_type": "code",
        "id": "ntt4BXvNa-Aw"
      },
      "cell_type": "code",
      "source": [
        "!dir\n"
      ],
      "execution_count": 0,
      "outputs": []
    },
    {
      "metadata": {
        "colab": {},
        "colab_type": "code",
        "id": "FhitcESFccpI"
      },
      "cell_type": "code",
      "source": [
        "generate_and_save_images(generator,0,\n",
        "                               0.0,\n",
        "                               0.0,\n",
        "                               0.0\n",
        "                              )"
      ],
      "execution_count": 0,
      "outputs": []
    },
    {
      "metadata": {
        "colab_type": "text",
        "id": "rfM4YcPVPkNO"
      },
      "cell_type": "markdown",
      "source": [
        "## Restore the latest checkpoint"
      ]
    },
    {
      "metadata": {
        "colab": {},
        "colab_type": "code",
        "id": "XhXsd0srPo8c"
      },
      "cell_type": "code",
      "source": [
        "# restoring the latest checkpoint in checkpoint_dir\n",
        "checkpoint.restore(tf.train.latest_checkpoint(checkpoint_dir))"
      ],
      "execution_count": 0,
      "outputs": []
    },
    {
      "metadata": {
        "colab_type": "text",
        "id": "P4M_vIbUi7c0"
      },
      "cell_type": "markdown",
      "source": [
        "## Display an image using the epoch number"
      ]
    },
    {
      "metadata": {
        "colab": {},
        "colab_type": "code",
        "id": "WfO5wCdclHGL"
      },
      "cell_type": "code",
      "source": [
        "def display_image(epoch_no):\n",
        "  return PIL.Image.open('aimage_at_epoch_{:04d}.png'.format(epoch_no))"
      ],
      "execution_count": 0,
      "outputs": []
    },
    {
      "metadata": {
        "colab": {},
        "colab_type": "code",
        "id": "5x3q9_Oe5q0A"
      },
      "cell_type": "code",
      "source": [
        "display_image(598)"
      ],
      "execution_count": 0,
      "outputs": []
    },
    {
      "metadata": {
        "colab_type": "text",
        "id": "NywiH3nL8guF"
      },
      "cell_type": "markdown",
      "source": [
        "## Generate a GIF of all the saved images."
      ]
    },
    {
      "metadata": {
        "colab_type": "text",
        "id": "xmO0Dmu2WICn"
      },
      "cell_type": "markdown",
      "source": [
        "<!-- TODO(markdaoust): Remove the hack when Ipython version is updated -->\n"
      ]
    },
    {
      "metadata": {
        "colab": {},
        "colab_type": "code",
        "id": "IGKQgENQ8lEI"
      },
      "cell_type": "code",
      "source": [
        "with imageio.get_writer('dcgan.gif', mode='I', duration=0.1) as writer:\n",
        "  filenames = glob.glob('aimage*.png')\n",
        "  filenames = sorted(filenames)\n",
        "  last = -1\n",
        "  for i,filename in enumerate(filenames):\n",
        "    frame = i/5\n",
        "    if round(frame) > round(last):\n",
        "      last = frame\n",
        "    else:\n",
        "      continue\n",
        "    image = imageio.imread(filename)\n",
        "    writer.append_data(image)\n",
        "  image = imageio.imread(filename)\n",
        "  writer.append_data(image)\n",
        "    \n",
        "# this is a hack to display the gif inside the notebook\n",
        "os.system('cp dcgan.gif dcgan.gif.png')"
      ],
      "execution_count": 0,
      "outputs": []
    },
    {
      "metadata": {
        "colab": {},
        "colab_type": "code",
        "id": "uV0yiKpzNP1b"
      },
      "cell_type": "code",
      "source": [
        "display.Image(filename=\"dcgan.gif.png\")"
      ],
      "execution_count": 0,
      "outputs": []
    },
    {
      "metadata": {
        "colab": {},
        "colab_type": "code",
        "id": "B1-35UxLtpd1"
      },
      "cell_type": "code",
      "source": [
        "#@title Example form fields\n",
        "#@markdown Forms support many types of fields.\n",
        "\n",
        "no_type_checking = ''  #@param\n",
        "string_type = 'example'  #@param {type: \"string\"}\n",
        "slider_value = 125  #@param {type: \"slider\", min: 100, max: 200}\n",
        "number = 102  #@param {type: \"number\"}\n",
        "date = '2010-11-05'  #@param {type: \"date\"}\n",
        "pick_me = \"monday\"  #@param ['monday', 'tuesday', 'wednesday', 'thursday']\n",
        "select_or_input = \"apples\" #@param [\"apples\", \"bananas\", \"oranges\"] {allow-input: true}\n",
        "#@markdown ---\n"
      ],
      "execution_count": 0,
      "outputs": []
    },
    {
      "metadata": {
        "colab": {},
        "colab_type": "code",
        "id": "as95ObIdtxwX"
      },
      "cell_type": "code",
      "source": [
        "# load an example dataset\n",
        "from vega_datasets import data\n",
        "cars = data.cars()\n",
        "\n",
        "# plot the dataset, referencing dataframe column names\n",
        "import altair as alt\n",
        "alt.Chart(cars).mark_bar().encode(\n",
        "  x='mean(Miles_per_Gallon)',\n",
        "  y='Origin',\n",
        "  color='Origin'\n",
        ")"
      ],
      "execution_count": 0,
      "outputs": []
    },
    {
      "metadata": {
        "colab_type": "text",
        "id": "6EEG-wePkmJQ"
      },
      "cell_type": "markdown",
      "source": [
        "To downlod the animation from Colab uncomment the code below:"
      ]
    },
    {
      "metadata": {
        "colab": {},
        "colab_type": "code",
        "id": "4UJjSnIMOzOJ"
      },
      "cell_type": "code",
      "source": [
        "#from google.colab import files\n",
        "#files.download('dcgan.gif')"
      ],
      "execution_count": 0,
      "outputs": []
    }
  ]
}